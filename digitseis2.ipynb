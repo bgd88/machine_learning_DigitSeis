{
 "cells": [
  {
   "cell_type": "code",
   "execution_count": 1,
   "metadata": {},
   "outputs": [
    {
     "name": "stderr",
     "output_type": "stream",
     "text": [
      "/Users/richard/anaconda/lib/python2.7/site-packages/h5py/__init__.py:34: FutureWarning: Conversion of the second argument of issubdtype from `float` to `np.floating` is deprecated. In future, it will be treated as `np.float64 == np.dtype(float).type`.\n",
      "  from ._conv import register_converters as _register_converters\n",
      "Using TensorFlow backend.\n"
     ]
    }
   ],
   "source": [
    "from __future__ import print_function\n",
    "import keras\n",
    "from keras.datasets import mnist\n",
    "from keras.layers import Dense, Flatten\n",
    "from keras.layers import Conv2D, MaxPooling2D\n",
    "from keras.models import Sequential\n",
    "import matplotlib.pylab as plt\n",
    "\n",
    "import os\n",
    "import glob\n",
    "from PIL import Image\n",
    "import numpy as np"
   ]
  },
  {
   "cell_type": "code",
   "execution_count": 2,
   "metadata": {
    "collapsed": true
   },
   "outputs": [],
   "source": [
    "batch_size = 128\n",
    "num_classes = 3\n",
    "epochs = 50\n",
    "\n",
    "# input image dimensions\n",
    "img_x, img_y = 20, 20"
   ]
  },
  {
   "cell_type": "code",
   "execution_count": 3,
   "metadata": {
    "collapsed": true
   },
   "outputs": [],
   "source": [
    "current_dir = os.getcwd()\n",
    "train_0 = glob.glob('{}/scaled_training_images/{}/*'.format(current_dir, 'train_jpg_0'))\n",
    "train_1 = glob.glob('{}/scaled_training_images/{}/*'.format(current_dir, 'train_jpg_1'))\n",
    "train_2 = glob.glob('{}/scaled_training_images/{}/*'.format(current_dir, 'train_jpg_2'))\n",
    "\n",
    "def get_image_data(filename):\n",
    "    image = Image.open(filename)\n",
    "#     image = image.resize((img_x, img_y))\n",
    "    return np.array(image)\n",
    "\n",
    "def get_train_data(n):\n",
    "    train_data = []\n",
    "    train_labels = []\n",
    "    for f in train_0[:n]:\n",
    "        train_data.append(get_image_data(f))\n",
    "        train_labels.append(0)\n",
    "    for f in train_1[:n]:\n",
    "        train_data.append(get_image_data(f))\n",
    "        train_labels.append(1)\n",
    "    for f in train_2[:n]:\n",
    "        train_data.append(get_image_data(f))\n",
    "        train_labels.append(2)\n",
    "    return np.asarray(train_data), np.asarray(train_labels)\n",
    "\n",
    "test = glob.glob('{}/scaled_training_images/{}/*'.format(current_dir, 'test_jpg'))\n",
    "def get_test_data(n):\n",
    "    test_data = []\n",
    "    test_labels = []\n",
    "    for f in test[:n]:\n",
    "        test_data.append(get_image_data(f))\n",
    "        label = (f.split('/')[-1]).split('_')[0]\n",
    "        test_labels.append(int(label))\n",
    "    return np.asarray(test_data), np.asarray(test_labels)"
   ]
  },
  {
   "cell_type": "code",
   "execution_count": 4,
   "metadata": {
    "collapsed": true
   },
   "outputs": [],
   "source": [
    "x_train, y_train = get_train_data(5000)\n",
    "x_test, y_test = get_test_data(1000)"
   ]
  },
  {
   "cell_type": "code",
   "execution_count": 5,
   "metadata": {},
   "outputs": [
    {
     "name": "stdout",
     "output_type": "stream",
     "text": [
      "x_train shape: (15000, 20, 20, 1)\n",
      "15000 train samples\n",
      "1000 train samples\n",
      "Train on 15000 samples, validate on 1000 samples\n",
      "Epoch 1/50\n",
      "15000/15000 [==============================] - 3s 209us/step - loss: 0.3958 - acc: 0.8385 - val_loss: 0.7189 - val_acc: 0.8300\n",
      "Epoch 2/50\n",
      "15000/15000 [==============================] - 3s 219us/step - loss: 0.2131 - acc: 0.9353 - val_loss: 0.5745 - val_acc: 0.8620\n",
      "Epoch 3/50\n",
      "15000/15000 [==============================] - 3s 200us/step - loss: 0.1710 - acc: 0.9487 - val_loss: 0.4347 - val_acc: 0.8800\n",
      "Epoch 4/50\n",
      "15000/15000 [==============================] - 3s 197us/step - loss: 0.1493 - acc: 0.9562 - val_loss: 0.6823 - val_acc: 0.8290\n",
      "Epoch 5/50\n",
      "15000/15000 [==============================] - 3s 208us/step - loss: 0.1352 - acc: 0.9605 - val_loss: 0.3356 - val_acc: 0.9080\n",
      "Epoch 6/50\n",
      "15000/15000 [==============================] - 3s 205us/step - loss: 0.1220 - acc: 0.9627 - val_loss: 0.3505 - val_acc: 0.9050\n",
      "Epoch 7/50\n",
      "15000/15000 [==============================] - 3s 209us/step - loss: 0.1120 - acc: 0.9671 - val_loss: 0.3424 - val_acc: 0.9020\n",
      "Epoch 8/50\n",
      "15000/15000 [==============================] - 3s 209us/step - loss: 0.1025 - acc: 0.9711 - val_loss: 0.3273 - val_acc: 0.9100\n",
      "Epoch 9/50\n",
      "15000/15000 [==============================] - 3s 217us/step - loss: 0.0980 - acc: 0.9716 - val_loss: 0.3989 - val_acc: 0.8930\n",
      "Epoch 10/50\n",
      "15000/15000 [==============================] - 3s 214us/step - loss: 0.0937 - acc: 0.9718 - val_loss: 0.3572 - val_acc: 0.9070\n",
      "Epoch 11/50\n",
      "15000/15000 [==============================] - 3s 220us/step - loss: 0.0864 - acc: 0.9749 - val_loss: 0.3630 - val_acc: 0.9090\n",
      "Epoch 12/50\n",
      "15000/15000 [==============================] - 3s 217us/step - loss: 0.0859 - acc: 0.9740 - val_loss: 0.4759 - val_acc: 0.8840\n",
      "Epoch 13/50\n",
      "15000/15000 [==============================] - 3s 216us/step - loss: 0.0841 - acc: 0.9750 - val_loss: 0.3864 - val_acc: 0.9050\n",
      "Epoch 14/50\n",
      "15000/15000 [==============================] - 3s 214us/step - loss: 0.0776 - acc: 0.9773 - val_loss: 0.4658 - val_acc: 0.9070\n",
      "Epoch 15/50\n",
      "15000/15000 [==============================] - 3s 220us/step - loss: 0.0754 - acc: 0.9764 - val_loss: 0.3465 - val_acc: 0.9120\n",
      "Epoch 16/50\n",
      "15000/15000 [==============================] - 3s 216us/step - loss: 0.0720 - acc: 0.9785 - val_loss: 0.4834 - val_acc: 0.8960\n",
      "Epoch 17/50\n",
      "15000/15000 [==============================] - 3s 219us/step - loss: 0.0693 - acc: 0.9787 - val_loss: 0.4469 - val_acc: 0.8970\n",
      "Epoch 18/50\n",
      "15000/15000 [==============================] - 3s 222us/step - loss: 0.0687 - acc: 0.9792 - val_loss: 0.3551 - val_acc: 0.9280\n",
      "Epoch 19/50\n",
      "15000/15000 [==============================] - 3s 220us/step - loss: 0.0624 - acc: 0.9813 - val_loss: 0.3973 - val_acc: 0.9200\n",
      "Epoch 20/50\n",
      "15000/15000 [==============================] - 3s 222us/step - loss: 0.0609 - acc: 0.9813 - val_loss: 0.4430 - val_acc: 0.8990\n",
      "Epoch 21/50\n",
      "15000/15000 [==============================] - 3s 216us/step - loss: 0.0559 - acc: 0.9838 - val_loss: 0.3682 - val_acc: 0.9260\n",
      "Epoch 22/50\n",
      "15000/15000 [==============================] - 3s 218us/step - loss: 0.0575 - acc: 0.9822 - val_loss: 0.4569 - val_acc: 0.9220\n",
      "Epoch 23/50\n",
      "15000/15000 [==============================] - 3s 213us/step - loss: 0.0584 - acc: 0.9827 - val_loss: 0.4021 - val_acc: 0.9210\n",
      "Epoch 24/50\n",
      "15000/15000 [==============================] - 3s 210us/step - loss: 0.0503 - acc: 0.9856 - val_loss: 0.4997 - val_acc: 0.9060\n",
      "Epoch 25/50\n",
      "15000/15000 [==============================] - 3s 207us/step - loss: 0.0469 - acc: 0.9859 - val_loss: 0.4529 - val_acc: 0.9070\n",
      "Epoch 26/50\n",
      "15000/15000 [==============================] - 3s 208us/step - loss: 0.0455 - acc: 0.9863 - val_loss: 0.5065 - val_acc: 0.9030\n",
      "Epoch 27/50\n",
      "15000/15000 [==============================] - 3s 207us/step - loss: 0.0511 - acc: 0.9851 - val_loss: 0.4705 - val_acc: 0.9210\n",
      "Epoch 28/50\n",
      "15000/15000 [==============================] - 3s 207us/step - loss: 0.0409 - acc: 0.9882 - val_loss: 0.5747 - val_acc: 0.9090\n",
      "Epoch 29/50\n",
      "15000/15000 [==============================] - 3s 208us/step - loss: 0.0412 - acc: 0.9882 - val_loss: 0.5058 - val_acc: 0.9160\n",
      "Epoch 30/50\n",
      "15000/15000 [==============================] - 3s 205us/step - loss: 0.0380 - acc: 0.9895 - val_loss: 0.4708 - val_acc: 0.9250\n",
      "Epoch 31/50\n",
      "15000/15000 [==============================] - 3s 205us/step - loss: 0.0456 - acc: 0.9866 - val_loss: 0.4908 - val_acc: 0.9140\n",
      "Epoch 32/50\n",
      "15000/15000 [==============================] - 3s 206us/step - loss: 0.0411 - acc: 0.9879 - val_loss: 0.5973 - val_acc: 0.9100\n",
      "Epoch 33/50\n",
      "15000/15000 [==============================] - 3s 204us/step - loss: 0.0394 - acc: 0.9889 - val_loss: 0.5932 - val_acc: 0.9110\n",
      "Epoch 34/50\n",
      "15000/15000 [==============================] - 3s 210us/step - loss: 0.0391 - acc: 0.9877 - val_loss: 0.5865 - val_acc: 0.9150\n",
      "Epoch 35/50\n",
      "15000/15000 [==============================] - 3s 208us/step - loss: 0.0421 - acc: 0.9879 - val_loss: 0.6518 - val_acc: 0.9000\n",
      "Epoch 36/50\n",
      "15000/15000 [==============================] - 3s 207us/step - loss: 0.0332 - acc: 0.9904 - val_loss: 0.5827 - val_acc: 0.9240\n",
      "Epoch 37/50\n",
      "15000/15000 [==============================] - 3s 204us/step - loss: 0.0457 - acc: 0.9862 - val_loss: 0.7301 - val_acc: 0.9050\n",
      "Epoch 38/50\n",
      "15000/15000 [==============================] - 3s 201us/step - loss: 0.0392 - acc: 0.9883 - val_loss: 0.5289 - val_acc: 0.9290\n",
      "Epoch 39/50\n",
      "15000/15000 [==============================] - 3s 204us/step - loss: 0.0294 - acc: 0.9919 - val_loss: 0.5795 - val_acc: 0.9120\n",
      "Epoch 40/50\n",
      "15000/15000 [==============================] - 3s 202us/step - loss: 0.0282 - acc: 0.9924 - val_loss: 0.6674 - val_acc: 0.8990\n",
      "Epoch 41/50\n",
      "15000/15000 [==============================] - 3s 214us/step - loss: 0.0360 - acc: 0.9900 - val_loss: 0.6872 - val_acc: 0.9110\n",
      "Epoch 42/50\n",
      "15000/15000 [==============================] - 3s 207us/step - loss: 0.0324 - acc: 0.9907 - val_loss: 0.6643 - val_acc: 0.9020\n",
      "Epoch 43/50\n",
      "15000/15000 [==============================] - 3s 205us/step - loss: 0.0306 - acc: 0.9911 - val_loss: 0.5934 - val_acc: 0.9090\n",
      "Epoch 44/50\n",
      "15000/15000 [==============================] - 3s 207us/step - loss: 0.0291 - acc: 0.9912 - val_loss: 0.6618 - val_acc: 0.9050\n",
      "Epoch 45/50\n",
      "15000/15000 [==============================] - 3s 211us/step - loss: 0.0228 - acc: 0.9935 - val_loss: 0.6419 - val_acc: 0.9110\n",
      "Epoch 46/50\n",
      "15000/15000 [==============================] - 3s 208us/step - loss: 0.0233 - acc: 0.9937 - val_loss: 0.7816 - val_acc: 0.9090\n",
      "Epoch 47/50\n",
      "15000/15000 [==============================] - 3s 207us/step - loss: 0.0411 - acc: 0.9875 - val_loss: 0.7413 - val_acc: 0.9050\n",
      "Epoch 48/50\n",
      "15000/15000 [==============================] - 3s 204us/step - loss: 0.0441 - acc: 0.9868 - val_loss: 0.5610 - val_acc: 0.9190\n",
      "Epoch 49/50\n",
      "15000/15000 [==============================] - 3s 209us/step - loss: 0.0251 - acc: 0.9930 - val_loss: 0.6648 - val_acc: 0.9060\n",
      "Epoch 50/50\n",
      "15000/15000 [==============================] - 4s 276us/step - loss: 0.0263 - acc: 0.9931 - val_loss: 0.8682 - val_acc: 0.8930\n",
      "Test loss: 0.8681951001286506\n",
      "Test accuracy: 0.893\n"
     ]
    },
    {
     "data": {
      "image/png": "[encoded data removed]",
      "text/plain": [
       "<matplotlib.figure.Figure at 0x13687f7d0>"
      ]
     },
     "metadata": {},
     "output_type": "display_data"
    }
   ],
   "source": [
    "# https://github.com/adventuresinML/adventures-in-ml-code/blob/master/keras_cnn.py\n",
    "# reshape the data into a 4D tensor - (sample_number, x_img_size, y_img_size, num_channels)\n",
    "# because the MNIST is greyscale, we only have a single channel - RGB colour images would have 3\n",
    "x_train = x_train.reshape(x_train.shape[0], img_x, img_y, 1)\n",
    "x_test = x_test.reshape(x_test.shape[0], img_x, img_y, 1)\n",
    "input_shape = (img_x, img_y, 1)\n",
    "\n",
    "# convert the data to the right type\n",
    "x_train = x_train.astype('float32')\n",
    "x_test = x_test.astype('float32')\n",
    "x_train /= 255\n",
    "x_test /= 255\n",
    "print('x_train shape:', x_train.shape)\n",
    "print(x_train.shape[0], 'train samples')\n",
    "print(x_test.shape[0], 'train samples')\n",
    "\n",
    "# convert class vectors to binary class matrices - this is for use in the\n",
    "# categorical_crossentropy loss below\n",
    "y_train = keras.utils.to_categorical(y_train, num_classes)\n",
    "y_test = keras.utils.to_categorical(y_test, num_classes)\n",
    "\n",
    "model = Sequential()\n",
    "model.add(Conv2D(32, kernel_size=(5, 5), strides=(1, 1),\n",
    "                 activation='relu',\n",
    "                 input_shape=input_shape))\n",
    "model.add(MaxPooling2D(pool_size=(2, 2), strides=(2, 2)))\n",
    "model.add(Conv2D(64, (5, 5), activation='relu'))\n",
    "model.add(MaxPooling2D(pool_size=(2, 2)))\n",
    "model.add(Flatten())\n",
    "model.add(Dense(1000, activation='relu'))\n",
    "model.add(Dense(num_classes, activation='softmax'))\n",
    "\n",
    "model.compile(loss=keras.losses.categorical_crossentropy,\n",
    "              optimizer=keras.optimizers.Adam(),\n",
    "              metrics=['accuracy'])\n",
    "\n",
    "\n",
    "class AccuracyHistory(keras.callbacks.Callback):\n",
    "    def on_train_begin(self, logs={}):\n",
    "        self.acc = []\n",
    "\n",
    "    def on_epoch_end(self, batch, logs={}):\n",
    "        self.acc.append(logs.get('acc'))\n",
    "\n",
    "history = AccuracyHistory()\n",
    "\n",
    "model.fit(x_train, y_train,\n",
    "          batch_size=batch_size,\n",
    "          epochs=epochs,\n",
    "          verbose=1,\n",
    "          validation_data=(x_test, y_test),\n",
    "          callbacks=[history])\n",
    "score = model.evaluate(x_test, y_test, verbose=0)\n",
    "print('Test loss:', score[0])\n",
    "print('Test accuracy:', score[1])\n",
    "plt.plot(range(1, epochs+1), history.acc)\n",
    "plt.xlabel('Epochs')\n",
    "plt.ylabel('Accuracy')\n",
    "plt.show()"
   ]
  },
  {
   "cell_type": "code",
   "execution_count": 27,
   "metadata": {
    "collapsed": true
   },
   "outputs": [],
   "source": [
    "def transform_data(folder):\n",
    "    train_0 = glob.glob('{}/training_images/{}/*'.format(current_dir, folder))\n",
    "    for f in train_0:\n",
    "        image = Image.open(f)\n",
    "        image = image.resize((img_x, img_y))\n",
    "        filename = f.split('/')[-1]\n",
    "        image.save('{}/scaled_training_images/{}/{}.jpg'.format(current_dir, folder, filename))"
   ]
  },
  {
   "cell_type": "code",
   "execution_count": 28,
   "metadata": {},
   "outputs": [
    {
     "ename": "KeyboardInterrupt",
     "evalue": "",
     "output_type": "error",
     "traceback": [
      "\u001b[0;31m---------------------------------------------------------------------------\u001b[0m",
      "\u001b[0;31mKeyboardInterrupt\u001b[0m                         Traceback (most recent call last)",
      "\u001b[0;32m<ipython-input-28-2671dd355f8d>\u001b[0m in \u001b[0;36m<module>\u001b[0;34m()\u001b[0m\n\u001b[0;32m----> 1\u001b[0;31m \u001b[0mtransform_data\u001b[0m\u001b[0;34m(\u001b[0m\u001b[0;34m'test_jpg'\u001b[0m\u001b[0;34m)\u001b[0m\u001b[0;34m\u001b[0m\u001b[0m\n\u001b[0m",
      "\u001b[0;32m<ipython-input-27-987fbc463dcf>\u001b[0m in \u001b[0;36mtransform_data\u001b[0;34m(folder)\u001b[0m\n\u001b[1;32m      2\u001b[0m     \u001b[0mtrain_0\u001b[0m \u001b[0;34m=\u001b[0m \u001b[0mglob\u001b[0m\u001b[0;34m.\u001b[0m\u001b[0mglob\u001b[0m\u001b[0;34m(\u001b[0m\u001b[0;34m'{}/training_images/{}/*'\u001b[0m\u001b[0;34m.\u001b[0m\u001b[0mformat\u001b[0m\u001b[0;34m(\u001b[0m\u001b[0mcurrent_dir\u001b[0m\u001b[0;34m,\u001b[0m \u001b[0mfolder\u001b[0m\u001b[0;34m)\u001b[0m\u001b[0;34m)\u001b[0m\u001b[0;34m\u001b[0m\u001b[0m\n\u001b[1;32m      3\u001b[0m     \u001b[0;32mfor\u001b[0m \u001b[0mf\u001b[0m \u001b[0;32min\u001b[0m \u001b[0mtrain_0\u001b[0m\u001b[0;34m:\u001b[0m\u001b[0;34m\u001b[0m\u001b[0m\n\u001b[0;32m----> 4\u001b[0;31m         \u001b[0mimage\u001b[0m \u001b[0;34m=\u001b[0m \u001b[0mImage\u001b[0m\u001b[0;34m.\u001b[0m\u001b[0mopen\u001b[0m\u001b[0;34m(\u001b[0m\u001b[0mf\u001b[0m\u001b[0;34m)\u001b[0m\u001b[0;34m\u001b[0m\u001b[0m\n\u001b[0m\u001b[1;32m      5\u001b[0m         \u001b[0mimage\u001b[0m \u001b[0;34m=\u001b[0m \u001b[0mimage\u001b[0m\u001b[0;34m.\u001b[0m\u001b[0mresize\u001b[0m\u001b[0;34m(\u001b[0m\u001b[0;34m(\u001b[0m\u001b[0mimg_x\u001b[0m\u001b[0;34m,\u001b[0m \u001b[0mimg_y\u001b[0m\u001b[0;34m)\u001b[0m\u001b[0;34m)\u001b[0m\u001b[0;34m\u001b[0m\u001b[0m\n\u001b[1;32m      6\u001b[0m         \u001b[0mfilename\u001b[0m \u001b[0;34m=\u001b[0m \u001b[0mf\u001b[0m\u001b[0;34m.\u001b[0m\u001b[0msplit\u001b[0m\u001b[0;34m(\u001b[0m\u001b[0;34m'/'\u001b[0m\u001b[0;34m)\u001b[0m\u001b[0;34m[\u001b[0m\u001b[0;34m-\u001b[0m\u001b[0;36m1\u001b[0m\u001b[0;34m]\u001b[0m\u001b[0;34m\u001b[0m\u001b[0m\n",
      "\u001b[0;32m/Users/richard/anaconda/lib/python2.7/site-packages/PIL/Image.pyc\u001b[0m in \u001b[0;36mopen\u001b[0;34m(fp, mode)\u001b[0m\n\u001b[1;32m   2408\u001b[0m \u001b[0;34m\u001b[0m\u001b[0m\n\u001b[1;32m   2409\u001b[0m     \u001b[0;32mif\u001b[0m \u001b[0mfilename\u001b[0m\u001b[0;34m:\u001b[0m\u001b[0;34m\u001b[0m\u001b[0m\n\u001b[0;32m-> 2410\u001b[0;31m         \u001b[0mfp\u001b[0m \u001b[0;34m=\u001b[0m \u001b[0mbuiltins\u001b[0m\u001b[0;34m.\u001b[0m\u001b[0mopen\u001b[0m\u001b[0;34m(\u001b[0m\u001b[0mfilename\u001b[0m\u001b[0;34m,\u001b[0m \u001b[0;34m\"rb\"\u001b[0m\u001b[0;34m)\u001b[0m\u001b[0;34m\u001b[0m\u001b[0m\n\u001b[0m\u001b[1;32m   2411\u001b[0m         \u001b[0mexclusive_fp\u001b[0m \u001b[0;34m=\u001b[0m \u001b[0mTrue\u001b[0m\u001b[0;34m\u001b[0m\u001b[0m\n\u001b[1;32m   2412\u001b[0m \u001b[0;34m\u001b[0m\u001b[0m\n",
      "\u001b[0;31mKeyboardInterrupt\u001b[0m: "
     ]
    }
   ],
   "source": [
    "# transform_data('test_jpg')"
   ]
  },
  {
   "cell_type": "code",
   "execution_count": null,
   "metadata": {
    "collapsed": true
   },
   "outputs": [],
   "source": []
  }
 ],
 "metadata": {
  "kernelspec": {
   "display_name": "Python 3",
   "language": "python",
   "name": "python3"
  },
  "language_info": {
   "codemirror_mode": {
    "name": "ipython",
    "version": 3
   },
   "file_extension": ".py",
   "mimetype": "text/x-python",
   "name": "python",
   "nbconvert_exporter": "python",
   "pygments_lexer": "ipython3",
   "version": "3.6.1"
  }
 },
 "nbformat": 4,
 "nbformat_minor": 2
}
